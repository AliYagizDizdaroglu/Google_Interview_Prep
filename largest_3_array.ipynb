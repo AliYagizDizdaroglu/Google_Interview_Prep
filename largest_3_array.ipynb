{
 "cells": [
  {
   "cell_type": "markdown",
   "id": "1cb44270",
   "metadata": {},
   "source": [
    "## Recursion Approach on Sorting: O(n*logn)"
   ]
  },
  {
   "cell_type": "code",
   "execution_count": 7,
   "id": "d5fff3e4",
   "metadata": {},
   "outputs": [
    {
     "name": "stdout",
     "output_type": "stream",
     "text": [
      "[0, 1, 2, 3, 3, 4, 5, 6, 7, 10]\n",
      "[-7, -1, 1, 2, 3, 5]\n",
      "[-2000, -1000, 0, 23, 56, 61, 78, 99, 250, 2200]\n",
      "\n",
      "The 3rd largest element of array:  6\n",
      "The 3rd largest element of array2:  2\n",
      "The 3rd largest element of array3:  99\n"
     ]
    }
   ],
   "source": [
    "array = [3,0,10,3,5,4,1,2,6,7]\n",
    "array2 = [-1,3,2,5,-7,1]\n",
    "array3 = [2200,250,61,0,-1000,23,56,78,99,-2000]\n",
    "\n",
    "def quick_sort(array):\n",
    "    if len(array) < 2:\n",
    "        return array\n",
    "    else:\n",
    "        pivot = array[0]\n",
    "        less = [i for i in array[1:] if i <= pivot]\n",
    "        greater = [i for i in array[1:] if i > pivot]\n",
    "        return quick_sort(less) + [pivot] + quick_sort(greater)\n",
    "\n",
    "print(quick_sort(array))\n",
    "print(quick_sort(array2))\n",
    "print(quick_sort(array3))\n",
    "\n",
    "print(\"\\nThe 3rd largest element of array: \", quick_sort(array)[-3])\n",
    "print(\"The 3rd largest element of array2: \", quick_sort(array2)[-3])\n",
    "print(\"The 3rd largest element of array3: \", quick_sort(array3)[-3])"
   ]
  },
  {
   "cell_type": "markdown",
   "id": "ea2e6425",
   "metadata": {},
   "source": [
    "# Find the kth largest element in an array without sorting, avg: O(n)"
   ]
  },
  {
   "cell_type": "code",
   "execution_count": 2,
   "id": "72b01b61",
   "metadata": {},
   "outputs": [],
   "source": [
    "arr = [3,0,10,3,5,4,1,2,6,7]\n",
    "sorted_array = sorted(arr)\n",
    "sorted_array\n",
    "k = 6"
   ]
  },
  {
   "cell_type": "code",
   "execution_count": 8,
   "id": "2d8170b3",
   "metadata": {},
   "outputs": [
    {
     "name": "stdout",
     "output_type": "stream",
     "text": [
      "arr: [3, 0, 10, 3, 5, 4, 1, 2, 6, 7], k: 6, len: 10\n",
      "pivot: 4\n",
      "[3, 0, 3, 1, 2]\n",
      "[4]\n",
      "[10, 5, 6, 7]\n",
      "going left: [3, 0, 3, 1, 2], k: 1\n",
      "arr: [3, 0, 3, 1, 2], k: 1, len: 5\n",
      "pivot: 3\n",
      "[0, 1, 2]\n",
      "[3, 3]\n",
      "[]\n",
      "middle[0]: 3\n",
      "-----------------------\n",
      "arr: [3, 0, 10, 3, 5, 4, 1, 2, 6, 7], k: 1, len: 10\n",
      "pivot: 4\n",
      "[3, 0, 3, 1, 2]\n",
      "[4]\n",
      "[10, 5, 6, 7]\n",
      "going right: [10, 5, 6, 7], k: 1\n",
      "arr: [10, 5, 6, 7], k: 1, len: 4\n",
      "pivot: 6\n",
      "[5]\n",
      "[6]\n",
      "[10, 7]\n",
      "going right: [10, 7], k: 1\n",
      "arr: [10, 7], k: 1, len: 2\n",
      "pivot: 7\n",
      "[]\n",
      "[7]\n",
      "[10]\n",
      "going right: [10], k: 1\n",
      "-----------------------\n",
      "arr: [3, 0, 10, 3, 5, 4, 1, 2, 6, 7], k: 3, len: 10\n",
      "pivot: 4\n",
      "[3, 0, 3, 1, 2]\n",
      "[4]\n",
      "[10, 5, 6, 7]\n",
      "going right: [10, 5, 6, 7], k: 3\n",
      "arr: [10, 5, 6, 7], k: 3, len: 4\n",
      "pivot: 6\n",
      "[5]\n",
      "[6]\n",
      "[10, 7]\n",
      "middle[0]: 6\n"
     ]
    },
    {
     "data": {
      "text/plain": [
       "6"
      ]
     },
     "execution_count": 8,
     "metadata": {},
     "output_type": "execute_result"
    }
   ],
   "source": [
    "def kth_largest(arr, k):\n",
    "    if len(arr) == 1:\n",
    "        return arr[0]\n",
    "    print(f\"arr: {arr}, k: {k}, len: {len(arr)}\")\n",
    "    \n",
    "    pivot = arr[len(arr) // 2]\n",
    "    print(f\"pivot: {pivot}\")\n",
    "    left = [x for x in arr if x < pivot]\n",
    "    print(left)\n",
    "    middle = [x for x in arr if x == pivot]\n",
    "    print(middle)\n",
    "    right = [x for x in arr if x > pivot]\n",
    "    print(right)\n",
    "    \n",
    "    if k <= len(right):\n",
    "        print(f\"going right: {right}, k: {k}\")\n",
    "        return kth_largest(right, k)\n",
    "    elif k <= len(right) + len(middle):\n",
    "        print(f\"middle[0]: {middle[0]}\")\n",
    "        return middle[0]\n",
    "    else:\n",
    "        print(f\"going left: {left}, k: {k - len(right) - len(middle)}\")\n",
    "        return kth_largest(left, k - len(right) - len(middle))\n",
    "    \n",
    "kth_largest(arr, 6) #3\n",
    "print(\"-----------------------\")\n",
    "kth_largest(arr, 1) #10\n",
    "print(\"-----------------------\")\n",
    "kth_largest(arr, 3) #6"
   ]
  },
  {
   "cell_type": "code",
   "execution_count": null,
   "id": "d587aa10",
   "metadata": {},
   "outputs": [],
   "source": [
    "# practice\n",
    "\n",
    "def kth_largest(arr, k):\n",
    "    l = 0\n",
    "    r = len(n)-1\n",
    "    pivot = arr[(l+r) // 2]\n",
    "    \n",
    "    left = [i for i in arr if i < pivot]\n",
    "    mid = [i for i in arr if i == pivot]\n",
    "    right = [i for i in arr if i > pivot]\n",
    "    \n",
    "    if k > len(right):\n",
    "        \n",
    "    \n"
   ]
  },
  {
   "cell_type": "code",
   "execution_count": 17,
   "id": "5c8ba41e",
   "metadata": {
    "scrolled": false
   },
   "outputs": [
    {
     "name": "stdout",
     "output_type": "stream",
     "text": [
      "4\n",
      "[3, 0, 3, 1, 2]\n",
      "[4]\n",
      "[10, 5, 6, 7]\n",
      "k2:  1\n"
     ]
    }
   ],
   "source": [
    "# first loop\n",
    "\n",
    "pivot = arr[len(arr) // 2]\n",
    "print(pivot)\n",
    "left = [x for x in arr if x < pivot]\n",
    "print(left)\n",
    "middle = [x for x in arr if x == pivot]\n",
    "print(middle)\n",
    "right = [x for x in arr if x > pivot]\n",
    "print(right)\n",
    "\n",
    "# else\n",
    "# going left, quickselect(left, k - len(right) - len(middle)) >>>> new array, new k\n",
    "k2 = k - len(right) - len(middle)\n",
    "print(\"k2: \", k2)"
   ]
  },
  {
   "cell_type": "code",
   "execution_count": 12,
   "id": "f222d9d6",
   "metadata": {},
   "outputs": [
    {
     "name": "stdout",
     "output_type": "stream",
     "text": [
      "3\n",
      "[0, 1, 2]\n",
      "[3, 3]\n",
      "[]\n",
      "k3:  1\n"
     ]
    }
   ],
   "source": [
    "# second loop\n",
    "\n",
    "# k2 <= len(right)\n",
    "# new array = right, k = the same\n",
    "\n",
    "arr2 = left\n",
    "\n",
    "pivot = arr2[len(arr2) // 2]\n",
    "print(pivot)\n",
    "left = [x for x in arr2 if x < pivot]\n",
    "print(left)\n",
    "middle = [x for x in arr2 if x == pivot]\n",
    "print(middle)\n",
    "right = [x for x in arr2 if x > pivot]\n",
    "print(right)\n",
    "\n",
    "# if\n",
    "# going right, quickselect(right, k)\n",
    "k3 = k2\n",
    "print(\"k3: \", k3)"
   ]
  },
  {
   "cell_type": "code",
   "execution_count": 88,
   "id": "1599803c",
   "metadata": {},
   "outputs": [
    {
     "name": "stdout",
     "output_type": "stream",
     "text": [
      "[]\n",
      "[5]\n",
      "[]\n",
      "new k:  5\n"
     ]
    }
   ],
   "source": [
    "arr3 = left\n",
    "\n",
    "pivot = arr3[len(arr3) // 2]\n",
    "left = [x for x in arr3 if x < pivot]\n",
    "print(left)\n",
    "middle = [x for x in arr3 if x == pivot]\n",
    "print(middle)\n",
    "right = [x for x in arr3 if x > pivot]\n",
    "print(right)\n",
    "\n",
    "print(\"new k: \", 6 - len(right) - len(middle))"
   ]
  },
  {
   "cell_type": "code",
   "execution_count": 46,
   "id": "714b489f",
   "metadata": {},
   "outputs": [
    {
     "name": "stdout",
     "output_type": "stream",
     "text": [
      "[]\n",
      "[0]\n",
      "[]\n",
      "new k:  5\n"
     ]
    }
   ],
   "source": [
    "arr4 = left\n",
    "\n",
    "pivot = arr4[len(arr4) // 2]\n",
    "left = [x for x in arr4 if x < pivot]\n",
    "print(left)\n",
    "middle = [x for x in arr4 if x == pivot]\n",
    "print(middle)\n",
    "right = [x for x in arr4 if x > pivot]\n",
    "print(right)\n",
    "\n",
    "print(\"new k: \", 6 - len(right) - len(middle))"
   ]
  },
  {
   "cell_type": "code",
   "execution_count": null,
   "id": "4114ffd8",
   "metadata": {},
   "outputs": [],
   "source": []
  }
 ],
 "metadata": {
  "kernelspec": {
   "display_name": "Python 3 (ipykernel)",
   "language": "python",
   "name": "python3"
  },
  "language_info": {
   "codemirror_mode": {
    "name": "ipython",
    "version": 3
   },
   "file_extension": ".py",
   "mimetype": "text/x-python",
   "name": "python",
   "nbconvert_exporter": "python",
   "pygments_lexer": "ipython3",
   "version": "3.9.13"
  }
 },
 "nbformat": 4,
 "nbformat_minor": 5
}
