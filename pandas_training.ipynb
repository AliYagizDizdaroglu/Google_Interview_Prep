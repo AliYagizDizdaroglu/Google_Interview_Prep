{
 "cells": [
  {
   "cell_type": "markdown",
   "id": "5a833a6e",
   "metadata": {},
   "source": [
    "# 1) .isin()"
   ]
  },
  {
   "cell_type": "code",
   "execution_count": 2,
   "id": "8938b21d",
   "metadata": {},
   "outputs": [
    {
     "data": {
      "text/html": [
       "<div>\n",
       "<style scoped>\n",
       "    .dataframe tbody tr th:only-of-type {\n",
       "        vertical-align: middle;\n",
       "    }\n",
       "\n",
       "    .dataframe tbody tr th {\n",
       "        vertical-align: top;\n",
       "    }\n",
       "\n",
       "    .dataframe thead th {\n",
       "        text-align: right;\n",
       "    }\n",
       "</style>\n",
       "<table border=\"1\" class=\"dataframe\">\n",
       "  <thead>\n",
       "    <tr style=\"text-align: right;\">\n",
       "      <th></th>\n",
       "      <th>First Name</th>\n",
       "      <th>Gender</th>\n",
       "      <th>Start Date</th>\n",
       "      <th>Last Login Time</th>\n",
       "      <th>Salary</th>\n",
       "      <th>Bonus %</th>\n",
       "      <th>Senior Management</th>\n",
       "      <th>Team</th>\n",
       "    </tr>\n",
       "  </thead>\n",
       "  <tbody>\n",
       "    <tr>\n",
       "      <th>0</th>\n",
       "      <td>Douglas</td>\n",
       "      <td>Male</td>\n",
       "      <td>8/6/1993</td>\n",
       "      <td>12:42 PM</td>\n",
       "      <td>97308</td>\n",
       "      <td>6.945</td>\n",
       "      <td>True</td>\n",
       "      <td>Marketing</td>\n",
       "    </tr>\n",
       "    <tr>\n",
       "      <th>217</th>\n",
       "      <td>Douglas</td>\n",
       "      <td>Male</td>\n",
       "      <td>9/3/1999</td>\n",
       "      <td>4:00 PM</td>\n",
       "      <td>83341</td>\n",
       "      <td>1.015</td>\n",
       "      <td>True</td>\n",
       "      <td>Client Services</td>\n",
       "    </tr>\n",
       "    <tr>\n",
       "      <th>322</th>\n",
       "      <td>Douglas</td>\n",
       "      <td>Male</td>\n",
       "      <td>1/8/2002</td>\n",
       "      <td>6:42 PM</td>\n",
       "      <td>41428</td>\n",
       "      <td>14.372</td>\n",
       "      <td>False</td>\n",
       "      <td>Product</td>\n",
       "    </tr>\n",
       "    <tr>\n",
       "      <th>835</th>\n",
       "      <td>Douglas</td>\n",
       "      <td>Male</td>\n",
       "      <td>8/4/2007</td>\n",
       "      <td>5:23 AM</td>\n",
       "      <td>132175</td>\n",
       "      <td>2.280</td>\n",
       "      <td>False</td>\n",
       "      <td>Engineering</td>\n",
       "    </tr>\n",
       "  </tbody>\n",
       "</table>\n",
       "</div>"
      ],
      "text/plain": [
       "    First Name Gender Start Date Last Login Time  Salary  Bonus %  \\\n",
       "0      Douglas   Male   8/6/1993        12:42 PM   97308    6.945   \n",
       "217    Douglas   Male   9/3/1999         4:00 PM   83341    1.015   \n",
       "322    Douglas   Male   1/8/2002         6:42 PM   41428   14.372   \n",
       "835    Douglas   Male   8/4/2007         5:23 AM  132175    2.280   \n",
       "\n",
       "    Senior Management             Team  \n",
       "0                True        Marketing  \n",
       "217              True  Client Services  \n",
       "322             False          Product  \n",
       "835             False      Engineering  "
      ]
     },
     "execution_count": 2,
     "metadata": {},
     "output_type": "execute_result"
    }
   ],
   "source": [
    "# importing pandas package\n",
    "import pandas as pd\n",
    "  \n",
    "# making data frame from csv file\n",
    "data = pd.read_csv(\"employees.csv\")\n",
    "  \n",
    "# creating a bool series from isin()\n",
    "new = data[\"Gender\"].isin([\"Male\"]) & data[\"First Name\"].isin([\"Douglas\"])\n",
    "  \n",
    "# displaying data with gender = male only\n",
    "data[new]"
   ]
  },
  {
   "cell_type": "code",
   "execution_count": null,
   "id": "5fab8cc0",
   "metadata": {},
   "outputs": [],
   "source": []
  }
 ],
 "metadata": {
  "kernelspec": {
   "display_name": "Python 3 (ipykernel)",
   "language": "python",
   "name": "python3"
  },
  "language_info": {
   "codemirror_mode": {
    "name": "ipython",
    "version": 3
   },
   "file_extension": ".py",
   "mimetype": "text/x-python",
   "name": "python",
   "nbconvert_exporter": "python",
   "pygments_lexer": "ipython3",
   "version": "3.9.12"
  }
 },
 "nbformat": 4,
 "nbformat_minor": 5
}
