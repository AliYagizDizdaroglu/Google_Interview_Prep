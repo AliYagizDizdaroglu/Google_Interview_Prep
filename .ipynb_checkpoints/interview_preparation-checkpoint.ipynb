{
 "cells": [
  {
   "cell_type": "markdown",
   "id": "0f34bc4e",
   "metadata": {},
   "source": [
    "# 1) Reversed String"
   ]
  },
  {
   "cell_type": "code",
   "execution_count": 2,
   "id": "7a8cd02a",
   "metadata": {},
   "outputs": [
    {
     "name": "stdout",
     "output_type": "stream",
     "text": [
      "dlrow olleH\n"
     ]
    }
   ],
   "source": [
    "string = \"Hello world\"\n",
    "\n",
    "def reverse_string(string):\n",
    "    string_reversed = \"\"\n",
    "    for i in range (0, len(string)):\n",
    "        string_reversed = string_reversed + string[len(string)-1-i]\n",
    "    \n",
    "    return string_reversed\n",
    "\n",
    "print(reverse_string(string))"
   ]
  },
  {
   "cell_type": "markdown",
   "id": "9eac3e38",
   "metadata": {},
   "source": [
    "# 2) Palindrome"
   ]
  },
  {
   "cell_type": "code",
   "execution_count": 6,
   "id": "7e6a4d3a",
   "metadata": {},
   "outputs": [
    {
     "name": "stdout",
     "output_type": "stream",
     "text": [
      "dlrow olleH\n",
      "False\n",
      "True\n"
     ]
    }
   ],
   "source": [
    "string = \"Hello world\"\n",
    "string2 = \"ece\"\n",
    "print(string[::-1])\n",
    "\n",
    "def check_palindrome(string):\n",
    "    if string == string[::-1]:\n",
    "        return True\n",
    "    else:\n",
    "        return False\n",
    "\n",
    "print(check_palindrome(string))\n",
    "print(check_palindrome(string2))"
   ]
  },
  {
   "cell_type": "markdown",
   "id": "b31ea73a",
   "metadata": {},
   "source": [
    "# 3) Matching and Non Matching Letters"
   ]
  },
  {
   "cell_type": "code",
   "execution_count": 9,
   "id": "388bdfbf",
   "metadata": {},
   "outputs": [
    {
     "name": "stdout",
     "output_type": "stream",
     "text": [
      "{'n': 4, 's': 5, 'w': 3, 'e': 9, 'r': 5, ':': 2, ' ': 13, 'o': 4, 'g': 3, 't': 7, 'h': 4, 'a': 5, 'c': 3, 'i': 3, 'l': 3}\n",
      "{'A': 1, 'n': 4, 's': 5, 'w': 3, 'e': 9, 'r': 5, ':': 2, ' ': 13, 'T': 1, 'o': 4, 'g': 3, 't': 7, 'h': 4, 'm': 1, 'a': 5, 'c': 3, 'i': 3, ',': 1, 'b': 1, 'l': 3, 'p': 1, 'f': 1, 'd': 1}\n",
      "['A', 'T', 'm', ',', 'b', 'p', 'f', 'd']\n"
     ]
    }
   ],
   "source": [
    "string = \"Answer: To get the matching characters in a string, the below steps are followed:\"\n",
    "counter_dict = {letter:string.count(letter) for letter in string if string.count(letter) > 1}\n",
    "counter_dict_all = {letter:string.count(letter) for letter in string}\n",
    "difference_list = [key for key in list(counter_dict_all.keys()) if key not in counter_dict]\n",
    "print(counter_dict)\n",
    "print(counter_dict_all)\n",
    "print(difference_list)"
   ]
  },
  {
   "cell_type": "code",
   "execution_count": 5,
   "id": "8b295879",
   "metadata": {},
   "outputs": [
    {
     "data": {
      "text/plain": [
       "dict_keys(['n', 's', 'w', 'e', 'r', ':', ' ', 'o', 'g', 't', 'h', 'a', 'c', 'i', 'l'])"
      ]
     },
     "execution_count": 5,
     "metadata": {},
     "output_type": "execute_result"
    }
   ],
   "source": [
    "counter_dict.keys()"
   ]
  },
  {
   "cell_type": "markdown",
   "id": "f7e53820",
   "metadata": {},
   "source": [
    "# 4) Number of Vowels and Consonants"
   ]
  },
  {
   "cell_type": "code",
   "execution_count": 1,
   "id": "71c0bbfe",
   "metadata": {},
   "outputs": [
    {
     "name": "stdout",
     "output_type": "stream",
     "text": [
      "53\n",
      "{'vowel': 19, 'consonant': 34}\n"
     ]
    },
    {
     "data": {
      "text/plain": [
       "['a', 'o', 'u', 'ı', 'e', 'ö', 'ü', 'i']"
      ]
     },
     "execution_count": 1,
     "metadata": {},
     "output_type": "execute_result"
    }
   ],
   "source": [
    "string = \"Howtocalculatethenumberofvowelsandconsonantsinastring\"\n",
    "vowels = \"a o u ı e ö ü i\".split()\n",
    "\n",
    "def counter(string):\n",
    "    dictionary = {'vowel':0, 'consonant':0}\n",
    "    \n",
    "    for letter in string:\n",
    "        if letter.isalnum() and letter not in vowels:\n",
    "            dictionary['consonant'] += 1\n",
    "        if letter in vowels:\n",
    "            dictionary['vowel'] += 1\n",
    "    \n",
    "    return dictionary\n",
    "print(len(string))\n",
    "print(counter(string))\n",
    "\n",
    "vowels"
   ]
  },
  {
   "cell_type": "markdown",
   "id": "1fc9deaf",
   "metadata": {},
   "source": [
    "# 5) Anagram Strings"
   ]
  },
  {
   "cell_type": "code",
   "execution_count": 7,
   "id": "7d5e607a",
   "metadata": {},
   "outputs": [
    {
     "name": "stdout",
     "output_type": "stream",
     "text": [
      "['a', 'a', 'a', 'h', 'n', 'r', 't'] ['a', 'a', 'a', 'h', 'n', 'r', 't']\n",
      "True\n",
      "['a', 'h', 'i', 'l', 's'] ['a', 'h', 'i', 'l', 's']\n",
      "True\n",
      "['a', 'h', 'i', 'l', 's'] ['c', 'e', 'e']\n",
      "False\n"
     ]
    }
   ],
   "source": [
    "string0 = \"tarhana\"\n",
    "string1 = \"anahtar\"\n",
    "string2 = \"silah\"\n",
    "string3 = \"halis\"\n",
    "string4 = \"ece\"\n",
    "\n",
    "def check_anagram(s0, s1):\n",
    "    s0 = sorted(s0)\n",
    "    s1 = sorted(s1)\n",
    "    \n",
    "    print(s0, s1)\n",
    "    if s0 == s1:\n",
    "        return print(\"True\")\n",
    "    else:\n",
    "        return print(\"False\")\n",
    "\n",
    "check_anagram(string0, string1)\n",
    "check_anagram(string2, string3)\n",
    "check_anagram(string3, string4)"
   ]
  },
  {
   "cell_type": "markdown",
   "id": "fbda7496",
   "metadata": {},
   "source": [
    "# 6) Number of Numerical Digits "
   ]
  },
  {
   "cell_type": "code",
   "execution_count": 10,
   "id": "002c5dda",
   "metadata": {},
   "outputs": [
    {
     "data": {
      "text/plain": [
       "9"
      ]
     },
     "execution_count": 10,
     "metadata": {},
     "output_type": "execute_result"
    }
   ],
   "source": [
    "string = \"How to calculate the number of numerical digits in a string?123123123\"\n",
    "\n",
    "def num_digit_number(string):\n",
    "    count = 0\n",
    "    for char in string:\n",
    "        if char.isnumeric():\n",
    "            count += 1\n",
    "    \n",
    "    return count\n",
    "\n",
    "num_digit_number(string)            "
   ]
  },
  {
   "cell_type": "markdown",
   "id": "20b46362",
   "metadata": {},
   "source": [
    "# 7) First Non Repeating in String"
   ]
  },
  {
   "cell_type": "code",
   "execution_count": 14,
   "id": "6790a3ec",
   "metadata": {},
   "outputs": [
    {
     "name": "stdout",
     "output_type": "stream",
     "text": [
      "['o', ' ', 't', 'o', ' ', 'c', 'o', 'p', 't', 'e', ' ', 't', 'h', 'e', ' ', 'f', 'i', 'r', 's', 't', ' ', 'c', 'h', 'a', 'r', 'a', 'c', 't', 'e', 'r', ' ', 'o', 'f', ' ', 'a', ' ', 's', 't', 'r', 'i', 'n', ' ', 't', 'h', 'a', 't', ' ', 'i', 's', ' ', 'n', 'o', 't', ' ', 'r', 'e', 'p', 'e', 'a', 't', 'e'] ['w', 'm', 'u', 'g', 'd', '?']\n"
     ]
    }
   ],
   "source": [
    "string = \"ow to compute the first character of a string that is not repeated?\"\n",
    "\n",
    "def detect_non_repeating(string):\n",
    "    repeating = [elem for elem in string if string.count(elem) > 1]\n",
    "    non_repeating = [elem for elem in string if string.count(elem) == 1]\n",
    "    \n",
    "    return repeating, non_repeating\n",
    "\n",
    "repeating, non_repeating = detect_non_repeating(string)\n",
    "\n",
    "print(repeating, non_repeating)\n",
    "    "
   ]
  },
  {
   "cell_type": "markdown",
   "id": "542f6ebd",
   "metadata": {},
   "source": [
    "# 8) Missing Numbers in 1-100 "
   ]
  },
  {
   "cell_type": "code",
   "execution_count": 10,
   "id": "e0190f17",
   "metadata": {},
   "outputs": [
    {
     "data": {
      "text/plain": [
       "[53, 75]"
      ]
     },
     "execution_count": 10,
     "metadata": {},
     "output_type": "execute_result"
    }
   ],
   "source": [
    "list_removed = list(range(1, 101))\n",
    "list_removed.remove(list_100[74])\n",
    "list_removed.remove(list_100[52])\n",
    "list_removed\n",
    "\n",
    "list_100 = list(range(1, 101))\n",
    "list_difference = [item for item in list_100 if item not in list_removed]\n",
    "list_difference"
   ]
  },
  {
   "cell_type": "markdown",
   "id": "fb99c80b",
   "metadata": {},
   "source": [
    "# 9) Insertion Sort"
   ]
  },
  {
   "cell_type": "code",
   "execution_count": 26,
   "id": "7b0c4b10",
   "metadata": {},
   "outputs": [
    {
     "data": {
      "text/plain": [
       "[10, 11, 14, 17, 20, 24, 25, 27, 28, 29]"
      ]
     },
     "execution_count": 26,
     "metadata": {},
     "output_type": "execute_result"
    }
   ],
   "source": [
    "import random\n",
    "\n",
    "randomlist = random.sample(range(10, 30), 10)\n",
    "\n",
    "def insertion_sort(arr):\n",
    "    for i in range(1, len(arr)):\n",
    "        while arr[i-1] > arr[i] and i > 0:\n",
    "            arr[i-1], arr[i] = arr[i], arr[i-1]\n",
    "            i -= 1\n",
    "    return arr\n",
    "insertion_sort(randomlist)"
   ]
  },
  {
   "cell_type": "markdown",
   "id": "e2aeb2cf",
   "metadata": {},
   "source": [
    "# 10) Prime Number"
   ]
  },
  {
   "cell_type": "code",
   "execution_count": 34,
   "id": "1c0e4cee",
   "metadata": {},
   "outputs": [
    {
     "name": "stdout",
     "output_type": "stream",
     "text": [
      "[24, 36, 43, 15, 8]\n",
      "False\n",
      "{24: False, 36: False, 43: True, 15: False, 8: False}\n"
     ]
    }
   ],
   "source": [
    "import random\n",
    "\n",
    "list_random = random.sample(range(2,50),5)\n",
    "print(list_random)\n",
    "\n",
    "\n",
    "def is_prime(number):\n",
    "    list_check = []\n",
    "    for i in range(2,number+1):\n",
    "        if number % i != 0:\n",
    "            list_check.append(1)\n",
    "        else:\n",
    "            list_check.append(0)\n",
    "    #print(list_check)\n",
    "    \n",
    "    if list_check.count(0) == 1:\n",
    "        return True\n",
    "    else:\n",
    "        return False\n",
    "\n",
    "print(is_prime(list_random[0]))\n",
    "\n",
    "dict_random = {item:is_prime(item) for item in list_random}\n",
    "print(dict_random)"
   ]
  },
  {
   "cell_type": "code",
   "execution_count": 27,
   "id": "2a82c1d6",
   "metadata": {},
   "outputs": [
    {
     "name": "stdout",
     "output_type": "stream",
     "text": [
      "[0, 0, 1, 1, 0]\n"
     ]
    },
    {
     "data": {
      "text/plain": [
       "False"
      ]
     },
     "execution_count": 27,
     "metadata": {},
     "output_type": "execute_result"
    }
   ],
   "source": [
    "is_prime(6)"
   ]
  },
  {
   "cell_type": "markdown",
   "id": "59767598",
   "metadata": {},
   "source": [
    "# 11) Reverse A Number"
   ]
  },
  {
   "cell_type": "code",
   "execution_count": 1,
   "id": "17b5dd5e",
   "metadata": {},
   "outputs": [
    {
     "data": {
      "text/plain": [
       "'54123'"
      ]
     },
     "execution_count": 1,
     "metadata": {},
     "output_type": "execute_result"
    }
   ],
   "source": [
    "number = 32145\n",
    "\n",
    "def reverse_number(number):\n",
    "    number = str(number)[::-1]\n",
    "    return number\n",
    "\n",
    "reverse_number(number)"
   ]
  },
  {
   "cell_type": "markdown",
   "id": "c8dc51f4",
   "metadata": {},
   "source": [
    "# 12) Fibonacci Sequence"
   ]
  },
  {
   "cell_type": "code",
   "execution_count": 8,
   "id": "d118e136",
   "metadata": {},
   "outputs": [
    {
     "data": {
      "text/plain": [
       "[1, 1, 2, 3, 5, 8, 13, 21, 34, 55]"
      ]
     },
     "execution_count": 8,
     "metadata": {},
     "output_type": "execute_result"
    }
   ],
   "source": [
    "number = 10\n",
    "\n",
    "def fibonacci(number):\n",
    "    list_fibo = [1,1]\n",
    "    f0, f1 = 1, 1\n",
    "    for _ in range(2,number):\n",
    "        f0, f1 = f1, f0+f1\n",
    "        list_fibo.append(f1)\n",
    "    return list_fibo\n",
    "\n",
    "fibonacci(number)"
   ]
  },
  {
   "cell_type": "markdown",
   "id": "634a14dd",
   "metadata": {},
   "source": [
    "# 13) Linked List"
   ]
  },
  {
   "cell_type": "code",
   "execution_count": 9,
   "id": "88aa06d3",
   "metadata": {},
   "outputs": [
    {
     "name": "stdout",
     "output_type": "stream",
     "text": [
      "banana --> blueberry --> grapes --> orange\n",
      "45 --> 7 --> 12 --> 567 --> 99 --> 67\n"
     ]
    }
   ],
   "source": [
    "class Node:\n",
    "    def __init__(self, data=None, next=None):\n",
    "        self.data = data\n",
    "        self.next = next\n",
    "\n",
    "class LinkedList:\n",
    "    def __init__(self):\n",
    "        self.head = None\n",
    "\n",
    "    def print(self):\n",
    "        if self.head is None:\n",
    "            print(\"Linked list is empty\")\n",
    "            return\n",
    "        itr = self.head\n",
    "        llstr = ''\n",
    "        while itr:\n",
    "            llstr += str(itr.data)+' --> ' if itr.next else str(itr.data)\n",
    "            itr = itr.next\n",
    "        print(llstr)\n",
    "\n",
    "    def get_length(self):\n",
    "        count = 0\n",
    "        itr = self.head\n",
    "        while itr:\n",
    "            count+=1\n",
    "            itr = itr.next\n",
    "\n",
    "        return count\n",
    "\n",
    "    def insert_at_begining(self, data):\n",
    "        node = Node(data, self.head)\n",
    "        self.head = node\n",
    "\n",
    "    def insert_at_end(self, data):\n",
    "        if self.head is None:\n",
    "            self.head = Node(data, None)\n",
    "            return\n",
    "\n",
    "        itr = self.head\n",
    "\n",
    "        while itr.next:\n",
    "            itr = itr.next\n",
    "\n",
    "        itr.next = Node(data, None)\n",
    "\n",
    "    def insert_at(self, index, data):\n",
    "        if index<0 or index>self.get_length():\n",
    "            raise Exception(\"Invalid Index\")\n",
    "\n",
    "        if index==0:\n",
    "            self.insert_at_begining(data)\n",
    "            return\n",
    "\n",
    "        count = 0\n",
    "        itr = self.head\n",
    "        while itr:\n",
    "            if count == index - 1:\n",
    "                node = Node(data, itr.next)\n",
    "                itr.next = node\n",
    "                break\n",
    "\n",
    "            itr = itr.next\n",
    "            count += 1\n",
    "\n",
    "    def remove_at(self, index):\n",
    "        if index<0 or index>=self.get_length():\n",
    "            raise Exception(\"Invalid Index\")\n",
    "\n",
    "        if index==0:\n",
    "            self.head = self.head.next\n",
    "            return\n",
    "\n",
    "        count = 0\n",
    "        itr = self.head\n",
    "        while itr:\n",
    "            if count == index - 1:\n",
    "                itr.next = itr.next.next\n",
    "                break\n",
    "\n",
    "            itr = itr.next\n",
    "            count+=1\n",
    "\n",
    "    def insert_values(self, data_list):\n",
    "        self.head = None\n",
    "        for data in data_list:\n",
    "            self.insert_at_end(data)\n",
    "\n",
    "\n",
    "if __name__ == '__main__':\n",
    "    ll = LinkedList()\n",
    "    ll.insert_values([\"banana\",\"mango\",\"grapes\",\"orange\"])\n",
    "    ll.insert_at(1,\"blueberry\")\n",
    "    ll.remove_at(2)\n",
    "    ll.print()\n",
    "\n",
    "    ll.insert_values([45,7,12,567,99])\n",
    "    ll.insert_at_end(67)\n",
    "    ll.print()"
   ]
  },
  {
   "cell_type": "code",
   "execution_count": null,
   "id": "f3963919",
   "metadata": {},
   "outputs": [],
   "source": []
  }
 ],
 "metadata": {
  "kernelspec": {
   "display_name": "Python 3 (ipykernel)",
   "language": "python",
   "name": "python3"
  },
  "language_info": {
   "codemirror_mode": {
    "name": "ipython",
    "version": 3
   },
   "file_extension": ".py",
   "mimetype": "text/x-python",
   "name": "python",
   "nbconvert_exporter": "python",
   "pygments_lexer": "ipython3",
   "version": "3.9.12"
  }
 },
 "nbformat": 4,
 "nbformat_minor": 5
}
